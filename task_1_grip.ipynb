{
 "cells": [
  {
   "cell_type": "markdown",
   "metadata": {},
   "source": [
    "<img src=\"https://media-exp1.licdn.com/dms/image/C560BAQFgHU3sTF4LfQ/company-logo_200_200/0/1519895156650?e=2159024400&v=beta&t=1iqBaESC2l4UUW7JjEjq0R_HQhwRTaaqyQG1k46q4bs\" style=\"float:left\" height = \"250\" width=\"250\" >\n",
    "\n",
    "# The Sparks Foundation \n",
    "## (Gradual Rotational Internship Program)\n",
    "## Author:\n",
    "# Tushar Vilas Chavan\n",
    "## Data Science and Business Analytics Intern\n",
    "\n",
    " - <a href=\"https://www.linkedin.com/in/tushar-chavan-learner/\">LinkedIn</a>\n",
    " - <a href=\"https://github.com/ChavanTushar14\">GitHub</a>\n",
    " \n",
    "        \n",
    "\n",
    "\n"
   ]
  },
  {
   "cell_type": "markdown",
   "metadata": {},
   "source": [
    "# Problem Satatement :  Predict the percentage of marks that a student is expected to score based upon the number of hours they studied."
   ]
  },
  {
   "cell_type": "markdown",
   "metadata": {},
   "source": [
    "## Data:\n",
    "**Dataset taken from link given below**\n",
    "http://bit.ly/w-data\n"
   ]
  },
  {
   "cell_type": "markdown",
   "metadata": {},
   "source": [
    "**Initially we will import all the libararies needed for the task**"
   ]
  },
  {
   "cell_type": "code",
   "execution_count": 85,
   "metadata": {},
   "outputs": [],
   "source": [
    "library(tidyverse) \n",
    "library(repr)\n",
    "library(ggplot2)\n",
    "library(car)\n",
    "\n"
   ]
  },
  {
   "cell_type": "markdown",
   "metadata": {},
   "source": [
    "# Data Exploratory Analysis\n",
    "**Importing the data from web**"
   ]
  },
  {
   "cell_type": "code",
   "execution_count": 86,
   "metadata": {},
   "outputs": [
    {
     "data": {
      "text/html": [
       "<table>\n",
       "<thead><tr><th scope=col>Hours</th><th scope=col>Scores</th></tr></thead>\n",
       "<tbody>\n",
       "\t<tr><td>2.5</td><td>21 </td></tr>\n",
       "\t<tr><td>5.1</td><td>47 </td></tr>\n",
       "\t<tr><td>3.2</td><td>27 </td></tr>\n",
       "\t<tr><td>8.5</td><td>75 </td></tr>\n",
       "\t<tr><td>3.5</td><td>30 </td></tr>\n",
       "\t<tr><td>1.5</td><td>20 </td></tr>\n",
       "</tbody>\n",
       "</table>\n"
      ],
      "text/latex": [
       "\\begin{tabular}{r|ll}\n",
       " Hours & Scores\\\\\n",
       "\\hline\n",
       "\t 2.5 & 21 \\\\\n",
       "\t 5.1 & 47 \\\\\n",
       "\t 3.2 & 27 \\\\\n",
       "\t 8.5 & 75 \\\\\n",
       "\t 3.5 & 30 \\\\\n",
       "\t 1.5 & 20 \\\\\n",
       "\\end{tabular}\n"
      ],
      "text/markdown": [
       "\n",
       "| Hours | Scores |\n",
       "|---|---|\n",
       "| 2.5 | 21  |\n",
       "| 5.1 | 47  |\n",
       "| 3.2 | 27  |\n",
       "| 8.5 | 75  |\n",
       "| 3.5 | 30  |\n",
       "| 1.5 | 20  |\n",
       "\n"
      ],
      "text/plain": [
       "  Hours Scores\n",
       "1 2.5   21    \n",
       "2 5.1   47    \n",
       "3 3.2   27    \n",
       "4 8.5   75    \n",
       "5 3.5   30    \n",
       "6 1.5   20    "
      ]
     },
     "metadata": {},
     "output_type": "display_data"
    }
   ],
   "source": [
    "options(repr.plot.height=5,repr.width=5)\n",
    "data_score <- read.table(\"http://bit.ly/w-data\", header = TRUE, sep = \",\")\n",
    "head(data_score)"
   ]
  },
  {
   "cell_type": "code",
   "execution_count": 89,
   "metadata": {},
   "outputs": [
    {
     "name": "stdout",
     "output_type": "stream",
     "text": [
      "'data.frame':\t25 obs. of  2 variables:\n",
      " $ Hours : num  2.5 5.1 3.2 8.5 3.5 1.5 9.2 5.5 8.3 2.7 ...\n",
      " $ Scores: int  21 47 27 75 30 20 88 60 81 25 ...\n"
     ]
    },
    {
     "data": {
      "text/plain": [
       "     Hours           Scores     \n",
       " Min.   :1.100   Min.   :17.00  \n",
       " 1st Qu.:2.700   1st Qu.:30.00  \n",
       " Median :4.800   Median :47.00  \n",
       " Mean   :5.012   Mean   :51.48  \n",
       " 3rd Qu.:7.400   3rd Qu.:75.00  \n",
       " Max.   :9.200   Max.   :95.00  "
      ]
     },
     "metadata": {},
     "output_type": "display_data"
    },
    {
     "data": {
      "text/html": [
       "<table>\n",
       "<thead><tr><th></th><th scope=col>Hours</th><th scope=col>Scores</th></tr></thead>\n",
       "<tbody>\n",
       "\t<tr><th scope=row>Hours</th><td>1.0000000</td><td>0.9761907</td></tr>\n",
       "\t<tr><th scope=row>Scores</th><td>0.9761907</td><td>1.0000000</td></tr>\n",
       "</tbody>\n",
       "</table>\n"
      ],
      "text/latex": [
       "\\begin{tabular}{r|ll}\n",
       "  & Hours & Scores\\\\\n",
       "\\hline\n",
       "\tHours & 1.0000000 & 0.9761907\\\\\n",
       "\tScores & 0.9761907 & 1.0000000\\\\\n",
       "\\end{tabular}\n"
      ],
      "text/markdown": [
       "\n",
       "| <!--/--> | Hours | Scores |\n",
       "|---|---|---|\n",
       "| Hours | 1.0000000 | 0.9761907 |\n",
       "| Scores | 0.9761907 | 1.0000000 |\n",
       "\n"
      ],
      "text/plain": [
       "       Hours     Scores   \n",
       "Hours  1.0000000 0.9761907\n",
       "Scores 0.9761907 1.0000000"
      ]
     },
     "metadata": {},
     "output_type": "display_data"
    },
    {
     "data": {
      "text/html": [
       "<ol class=list-inline>\n",
       "\t<li>0</li>\n",
       "\t<li>0</li>\n",
       "\t<li>0</li>\n",
       "\t<li>0</li>\n",
       "\t<li>0</li>\n",
       "\t<li>0</li>\n",
       "\t<li>0</li>\n",
       "\t<li>0</li>\n",
       "\t<li>0</li>\n",
       "\t<li>0</li>\n",
       "\t<li>0</li>\n",
       "\t<li>0</li>\n",
       "\t<li>0</li>\n",
       "\t<li>0</li>\n",
       "\t<li>0</li>\n",
       "\t<li>0</li>\n",
       "\t<li>0</li>\n",
       "\t<li>0</li>\n",
       "\t<li>0</li>\n",
       "\t<li>0</li>\n",
       "\t<li>0</li>\n",
       "\t<li>0</li>\n",
       "\t<li>0</li>\n",
       "\t<li>0</li>\n",
       "\t<li>0</li>\n",
       "</ol>\n"
      ],
      "text/latex": [
       "\\begin{enumerate*}\n",
       "\\item 0\n",
       "\\item 0\n",
       "\\item 0\n",
       "\\item 0\n",
       "\\item 0\n",
       "\\item 0\n",
       "\\item 0\n",
       "\\item 0\n",
       "\\item 0\n",
       "\\item 0\n",
       "\\item 0\n",
       "\\item 0\n",
       "\\item 0\n",
       "\\item 0\n",
       "\\item 0\n",
       "\\item 0\n",
       "\\item 0\n",
       "\\item 0\n",
       "\\item 0\n",
       "\\item 0\n",
       "\\item 0\n",
       "\\item 0\n",
       "\\item 0\n",
       "\\item 0\n",
       "\\item 0\n",
       "\\end{enumerate*}\n"
      ],
      "text/markdown": [
       "1. 0\n",
       "2. 0\n",
       "3. 0\n",
       "4. 0\n",
       "5. 0\n",
       "6. 0\n",
       "7. 0\n",
       "8. 0\n",
       "9. 0\n",
       "10. 0\n",
       "11. 0\n",
       "12. 0\n",
       "13. 0\n",
       "14. 0\n",
       "15. 0\n",
       "16. 0\n",
       "17. 0\n",
       "18. 0\n",
       "19. 0\n",
       "20. 0\n",
       "21. 0\n",
       "22. 0\n",
       "23. 0\n",
       "24. 0\n",
       "25. 0\n",
       "\n",
       "\n"
      ],
      "text/plain": [
       " [1] 0 0 0 0 0 0 0 0 0 0 0 0 0 0 0 0 0 0 0 0 0 0 0 0 0"
      ]
     },
     "metadata": {},
     "output_type": "display_data"
    }
   ],
   "source": [
    "str(data_score)\n",
    "summary(data_score)\n",
    "cor(data_score)\n",
    "rowSums(is.na(data_score))"
   ]
  },
  {
   "cell_type": "markdown",
   "metadata": {},
   "source": [
    "**Summary about Dataset**\n",
    " - Hours(Independent Variable)\n",
    " - Scores(Dependent Variable)"
   ]
  },
  {
   "cell_type": "markdown",
   "metadata": {},
   "source": [
    "**Data Visualization**"
   ]
  },
  {
   "cell_type": "code",
   "execution_count": 90,
   "metadata": {},
   "outputs": [
    {
     "data": {
      "image/png": "[encoded data removed]",
      "text/plain": [
       "plot without title"
      ]
     },
     "metadata": {},
     "output_type": "display_data"
    }
   ],
   "source": [
    "\n",
    "graph <- ggplot(data_score, aes(Hours,Scores)) + geom_point(color=\"red\") + labs(subtitle=\"This plot shows that there is positive relationship between the variables.\")\n",
    "graph"
   ]
  },
  {
   "cell_type": "markdown",
   "metadata": {},
   "source": [
    "**Checking for Normal Distribution using Q-Q Plot**"
   ]
  },
  {
   "cell_type": "code",
   "execution_count": 96,
   "metadata": {},
   "outputs": [
    {
     "data": {
      "image/png": "[encoded data removed]",
      "text/plain": [
       "Plot with title \"Normal Q-Q Plot\""
      ]
     },
     "metadata": {},
     "output_type": "display_data"
    }
   ],
   "source": [
    "\n",
    "qqnorm(data_score$Hours, pch = 1, frame = FALSE)\n",
    "qqline(data_score$Hours, col = \"steelblue\", lwd = 2)"
   ]
  },
  {
   "cell_type": "markdown",
   "metadata": {},
   "source": [
    "## We can see in the diagram, the feature(Hour) is normally distributed! So, we can achieve higher accuracy in ML model."
   ]
  },
  {
   "cell_type": "markdown",
   "metadata": {},
   "source": [
    "# Data Modelling"
   ]
  },
  {
   "cell_type": "markdown",
   "metadata": {},
   "source": [
    "**Splliting the  dataset into training and testing samples along with feature and label**"
   ]
  },
  {
   "cell_type": "code",
   "execution_count": 81,
   "metadata": {},
   "outputs": [
    {
     "data": {
      "text/html": [
       "<table>\n",
       "<thead><tr><th></th><th scope=col>Hours</th><th scope=col>Scores</th></tr></thead>\n",
       "<tbody>\n",
       "\t<tr><th scope=row>15</th><td>1.1</td><td>17 </td></tr>\n",
       "\t<tr><th scope=row>19</th><td>6.1</td><td>67 </td></tr>\n",
       "\t<tr><th scope=row>14</th><td>3.3</td><td>42 </td></tr>\n",
       "\t<tr><th scope=row>3</th><td>3.2</td><td>27 </td></tr>\n",
       "\t<tr><th scope=row>10</th><td>2.7</td><td>25 </td></tr>\n",
       "\t<tr><th scope=row>18</th><td>1.9</td><td>24 </td></tr>\n",
       "\t<tr><th scope=row>11</th><td>7.7</td><td>85 </td></tr>\n",
       "\t<tr><th scope=row>5</th><td>3.5</td><td>30 </td></tr>\n",
       "\t<tr><th scope=row>23</th><td>3.8</td><td>35 </td></tr>\n",
       "\t<tr><th scope=row>6</th><td>1.5</td><td>20 </td></tr>\n",
       "\t<tr><th scope=row>9</th><td>8.3</td><td>81 </td></tr>\n",
       "\t<tr><th scope=row>21</th><td>2.7</td><td>30 </td></tr>\n",
       "\t<tr><th scope=row>24</th><td>6.9</td><td>76 </td></tr>\n",
       "\t<tr><th scope=row>20</th><td>7.4</td><td>69 </td></tr>\n",
       "\t<tr><th scope=row>22</th><td>4.8</td><td>54 </td></tr>\n",
       "\t<tr><th scope=row>25</th><td>7.8</td><td>86 </td></tr>\n",
       "\t<tr><th scope=row>17</th><td>2.5</td><td>30 </td></tr>\n",
       "\t<tr><th scope=row>1</th><td>2.5</td><td>21 </td></tr>\n",
       "\t<tr><th scope=row>12</th><td>5.9</td><td>62 </td></tr>\n",
       "\t<tr><th scope=row>13</th><td>4.5</td><td>41 </td></tr>\n",
       "</tbody>\n",
       "</table>\n"
      ],
      "text/latex": [
       "\\begin{tabular}{r|ll}\n",
       "  & Hours & Scores\\\\\n",
       "\\hline\n",
       "\t15 & 1.1 & 17 \\\\\n",
       "\t19 & 6.1 & 67 \\\\\n",
       "\t14 & 3.3 & 42 \\\\\n",
       "\t3 & 3.2 & 27 \\\\\n",
       "\t10 & 2.7 & 25 \\\\\n",
       "\t18 & 1.9 & 24 \\\\\n",
       "\t11 & 7.7 & 85 \\\\\n",
       "\t5 & 3.5 & 30 \\\\\n",
       "\t23 & 3.8 & 35 \\\\\n",
       "\t6 & 1.5 & 20 \\\\\n",
       "\t9 & 8.3 & 81 \\\\\n",
       "\t21 & 2.7 & 30 \\\\\n",
       "\t24 & 6.9 & 76 \\\\\n",
       "\t20 & 7.4 & 69 \\\\\n",
       "\t22 & 4.8 & 54 \\\\\n",
       "\t25 & 7.8 & 86 \\\\\n",
       "\t17 & 2.5 & 30 \\\\\n",
       "\t1 & 2.5 & 21 \\\\\n",
       "\t12 & 5.9 & 62 \\\\\n",
       "\t13 & 4.5 & 41 \\\\\n",
       "\\end{tabular}\n"
      ],
      "text/markdown": [
       "\n",
       "| <!--/--> | Hours | Scores |\n",
       "|---|---|---|\n",
       "| 15 | 1.1 | 17  |\n",
       "| 19 | 6.1 | 67  |\n",
       "| 14 | 3.3 | 42  |\n",
       "| 3 | 3.2 | 27  |\n",
       "| 10 | 2.7 | 25  |\n",
       "| 18 | 1.9 | 24  |\n",
       "| 11 | 7.7 | 85  |\n",
       "| 5 | 3.5 | 30  |\n",
       "| 23 | 3.8 | 35  |\n",
       "| 6 | 1.5 | 20  |\n",
       "| 9 | 8.3 | 81  |\n",
       "| 21 | 2.7 | 30  |\n",
       "| 24 | 6.9 | 76  |\n",
       "| 20 | 7.4 | 69  |\n",
       "| 22 | 4.8 | 54  |\n",
       "| 25 | 7.8 | 86  |\n",
       "| 17 | 2.5 | 30  |\n",
       "| 1 | 2.5 | 21  |\n",
       "| 12 | 5.9 | 62  |\n",
       "| 13 | 4.5 | 41  |\n",
       "\n"
      ],
      "text/plain": [
       "   Hours Scores\n",
       "15 1.1   17    \n",
       "19 6.1   67    \n",
       "14 3.3   42    \n",
       "3  3.2   27    \n",
       "10 2.7   25    \n",
       "18 1.9   24    \n",
       "11 7.7   85    \n",
       "5  3.5   30    \n",
       "23 3.8   35    \n",
       "6  1.5   20    \n",
       "9  8.3   81    \n",
       "21 2.7   30    \n",
       "24 6.9   76    \n",
       "20 7.4   69    \n",
       "22 4.8   54    \n",
       "25 7.8   86    \n",
       "17 2.5   30    \n",
       "1  2.5   21    \n",
       "12 5.9   62    \n",
       "13 4.5   41    "
      ]
     },
     "metadata": {},
     "output_type": "display_data"
    },
    {
     "data": {
      "text/html": [
       "<table>\n",
       "<thead><tr><th></th><th scope=col>Hours</th><th scope=col>Scores</th></tr></thead>\n",
       "<tbody>\n",
       "\t<tr><th scope=row>2</th><td>5.1</td><td>47 </td></tr>\n",
       "\t<tr><th scope=row>4</th><td>8.5</td><td>75 </td></tr>\n",
       "\t<tr><th scope=row>7</th><td>9.2</td><td>88 </td></tr>\n",
       "\t<tr><th scope=row>8</th><td>5.5</td><td>60 </td></tr>\n",
       "\t<tr><th scope=row>16</th><td>8.9</td><td>95 </td></tr>\n",
       "</tbody>\n",
       "</table>\n"
      ],
      "text/latex": [
       "\\begin{tabular}{r|ll}\n",
       "  & Hours & Scores\\\\\n",
       "\\hline\n",
       "\t2 & 5.1 & 47 \\\\\n",
       "\t4 & 8.5 & 75 \\\\\n",
       "\t7 & 9.2 & 88 \\\\\n",
       "\t8 & 5.5 & 60 \\\\\n",
       "\t16 & 8.9 & 95 \\\\\n",
       "\\end{tabular}\n"
      ],
      "text/markdown": [
       "\n",
       "| <!--/--> | Hours | Scores |\n",
       "|---|---|---|\n",
       "| 2 | 5.1 | 47  |\n",
       "| 4 | 8.5 | 75  |\n",
       "| 7 | 9.2 | 88  |\n",
       "| 8 | 5.5 | 60  |\n",
       "| 16 | 8.9 | 95  |\n",
       "\n"
      ],
      "text/plain": [
       "   Hours Scores\n",
       "2  5.1   47    \n",
       "4  8.5   75    \n",
       "7  9.2   88    \n",
       "8  5.5   60    \n",
       "16 8.9   95    "
      ]
     },
     "metadata": {},
     "output_type": "display_data"
    }
   ],
   "source": [
    "\n",
    "split_size = 0.8\n",
    "sample_size = floor(split_size * nrow(data_score))\n",
    "set.seed(123)\n",
    "train_indices <- sample(seq_len(nrow(data_score)), size = sample_size)\n",
    "train <- data_score[train_indices, ]\n",
    "test <- data_score[-train_indices, ]\n",
    "train\n",
    "test\n",
    "\n"
   ]
  },
  {
   "cell_type": "markdown",
   "metadata": {},
   "source": [
    "# Linear Regression\n",
    "## Linear regression performs the task to predict a dependent variable value (y) based on a given independent variable (x).\n",
    "## So, this regression technique finds out a linear relationship between x (input) and y(output). Hence, the name is Linear Regression.\n",
    "\n",
    "\n",
    "## Hypothesis function for Linear Regression is given by y=mx+c\n",
    "## where \n",
    " - x: input training data\n",
    " - y:  labels to data \n",
    "\n",
    "## When training the model, it fits the best line to predict the value of y for a given value of x.\n",
    "\n",
    "## The model get best fit by finding the appropriate values of two variables\n",
    "\n",
    " - m : Coefficiant of x\n",
    " - c : Intercept\n",
    "\n"
   ]
  },
  {
   "cell_type": "markdown",
   "metadata": {},
   "source": [
    "**How to get best values of m and C?**\n",
    "1. Cost Function (J) : \n",
    "    - By achieving the best-fit regression line, the model aims to predict y value such that the error difference between   predicted value and true value is minimum. \n",
    "    - Cost function(J) of Linear Regression is the Root Mean Squared Error (RMSE) between predicted y value (pred) and true y value (y).\n",
    " \n",
    "2. Gradient Descent : \n",
    "    - To update m and c values in order to reduce Cost function (minimizing RMSE value) and achieving the best fit line the model uses Gradient Descent.\n",
    "    - The idea is to start with random c and m values and then iteratively updating the values, reaching minimum cost.\n",
    "    <br> <br>\n",
    "<img src=\"http://media5.datahacker.rs/2018/06/word-image-30.jpeg\" style=\"float:left\" height = \"550\" width=\"550\" >\n",
    " "
   ]
  },
  {
   "cell_type": "markdown",
   "metadata": {},
   "source": [
    "**Training the model**"
   ]
  },
  {
   "cell_type": "code",
   "execution_count": 65,
   "metadata": {},
   "outputs": [
    {
     "data": {
      "text/plain": [
       "\n",
       "Call:\n",
       "lm(formula = Scores ~ Hours, data = data_score)\n",
       "\n",
       "Residuals:\n",
       "    Min      1Q  Median      3Q     Max \n",
       "-10.578  -5.340   1.839   4.593   7.265 \n",
       "\n",
       "Coefficients:\n",
       "            Estimate Std. Error t value Pr(>|t|)    \n",
       "(Intercept)   2.4837     2.5317   0.981    0.337    \n",
       "Hours         9.7758     0.4529  21.583   <2e-16 ***\n",
       "---\n",
       "Signif. codes:  0 '***' 0.001 '**' 0.01 '*' 0.05 '.' 0.1 ' ' 1\n",
       "\n",
       "Residual standard error: 5.603 on 23 degrees of freedom\n",
       "Multiple R-squared:  0.9529,\tAdjusted R-squared:  0.9509 \n",
       "F-statistic: 465.8 on 1 and 23 DF,  p-value: < 2.2e-16\n"
      ]
     },
     "metadata": {},
     "output_type": "display_data"
    }
   ],
   "source": [
    "model <- lm(Scores ~ Hours, data = data_score)\n",
    "summary(model)\n",
    "\n",
    "\n",
    "\n",
    "\n",
    "\n",
    "\n"
   ]
  },
  {
   "cell_type": "markdown",
   "metadata": {},
   "source": [
    "**Plotting the regression line**"
   ]
  },
  {
   "cell_type": "code",
   "execution_count": 66,
   "metadata": {},
   "outputs": [
    {
     "name": "stderr",
     "output_type": "stream",
     "text": [
      "`geom_smooth()` using formula 'y ~ x'\n"
     ]
    },
    {
     "data": {
      "image/png": "[encoded data removed]",
      "text/plain": [
       "plot without title"
      ]
     },
     "metadata": {},
     "output_type": "display_data"
    }
   ],
   "source": [
    "#plotting the regression line\n",
    "fitting  <- ggplot(data_score, aes(Hours,Scores)) +\n",
    "geom_point(color=\"red\") + geom_smooth(method = lm, se = FALSE, color=\"blue\") + labs(title=\"Linear Regression Model for Prediction of Scores with help of Hours of Study\")\n",
    "fitting"
   ]
  },
  {
   "cell_type": "markdown",
   "metadata": {},
   "source": [
    "**Predcitions based on test sample**"
   ]
  },
  {
   "cell_type": "code",
   "execution_count": 73,
   "metadata": {},
   "outputs": [
    {
     "data": {
      "text/html": [
       "<table>\n",
       "<thead><tr><th scope=col>Actual</th><th scope=col>Predicted</th></tr></thead>\n",
       "<tbody>\n",
       "\t<tr><td>47      </td><td>52.34027</td></tr>\n",
       "\t<tr><td>75      </td><td>85.57800</td></tr>\n",
       "\t<tr><td>88      </td><td>92.42106</td></tr>\n",
       "\t<tr><td>60      </td><td>56.25059</td></tr>\n",
       "\t<tr><td>95      </td><td>89.48832</td></tr>\n",
       "</tbody>\n",
       "</table>\n"
      ],
      "text/latex": [
       "\\begin{tabular}{r|ll}\n",
       " Actual & Predicted\\\\\n",
       "\\hline\n",
       "\t 47       & 52.34027\\\\\n",
       "\t 75       & 85.57800\\\\\n",
       "\t 88       & 92.42106\\\\\n",
       "\t 60       & 56.25059\\\\\n",
       "\t 95       & 89.48832\\\\\n",
       "\\end{tabular}\n"
      ],
      "text/markdown": [
       "\n",
       "| Actual | Predicted |\n",
       "|---|---|\n",
       "| 47       | 52.34027 |\n",
       "| 75       | 85.57800 |\n",
       "| 88       | 92.42106 |\n",
       "| 60       | 56.25059 |\n",
       "| 95       | 89.48832 |\n",
       "\n"
      ],
      "text/plain": [
       "  Actual Predicted\n",
       "1 47     52.34027 \n",
       "2 75     85.57800 \n",
       "3 88     92.42106 \n",
       "4 60     56.25059 \n",
       "5 95     89.48832 "
      ]
     },
     "metadata": {},
     "output_type": "display_data"
    }
   ],
   "source": [
    "\n",
    "new.data <- data.frame(Hours = test$Hours)\n",
    "test$output <- predict(model, new.data)\n",
    "frame <- data.frame(Actual = c(test$Scores), Predicted = c(test$output))\n",
    "frame\n"
   ]
  },
  {
   "cell_type": "markdown",
   "metadata": {},
   "source": [
    "**Prediction of desired result**"
   ]
  },
  {
   "cell_type": "code",
   "execution_count": 74,
   "metadata": {},
   "outputs": [
    {
     "data": {
      "text/html": [
       "'Number of hours 9.25'"
      ],
      "text/latex": [
       "'Number of hours 9.25'"
      ],
      "text/markdown": [
       "'Number of hours 9.25'"
      ],
      "text/plain": [
       "[1] \"Number of hours 9.25\""
      ]
     },
     "metadata": {},
     "output_type": "display_data"
    },
    {
     "data": {
      "text/html": [
       "'Predicted Score : 92.9098547701573'"
      ],
      "text/latex": [
       "'Predicted Score : 92.9098547701573'"
      ],
      "text/markdown": [
       "'Predicted Score : 92.9098547701573'"
      ],
      "text/plain": [
       "[1] \"Predicted Score : 92.9098547701573\""
      ]
     },
     "metadata": {},
     "output_type": "display_data"
    }
   ],
   "source": [
    "\n",
    "\n",
    "newdata=data.frame(Hours=c(9.25))\n",
    "result <- predict(model,newdata)\n",
    "sprintf(\"Number of hours %s\",newdata$Hours)\n",
    "sprintf(\"Predicted Score : %s\", result)"
   ]
  },
  {
   "cell_type": "markdown",
   "metadata": {},
   "source": [
    "**Evaluation of Model**"
   ]
  },
  {
   "cell_type": "code",
   "execution_count": 76,
   "metadata": {},
   "outputs": [
    {
     "data": {
      "text/html": [
       "'The root mean squre error in the model is : 4.95434542940271'"
      ],
      "text/latex": [
       "'The root mean squre error in the model is : 4.95434542940271'"
      ],
      "text/markdown": [
       "'The root mean squre error in the model is : 4.95434542940271'"
      ],
      "text/plain": [
       "[1] \"The root mean squre error in the model is : 4.95434542940271\""
      ]
     },
     "metadata": {},
     "output_type": "display_data"
    }
   ],
   "source": [
    "\n",
    "rmse = sqrt(sum(test$Scores - test$output)^2/nrow(test))\n",
    "sprintf(\"The root mean squre error in the model is : %s\", rmse)\n",
    "\n"
   ]
  }
 ],
 "metadata": {
  "kernelspec": {
   "display_name": "R",
   "language": "R",
   "name": "ir"
  },
  "language_info": {
   "codemirror_mode": "r",
   "file_extension": ".r",
   "mimetype": "text/x-r-source",
   "name": "R",
   "pygments_lexer": "r",
   "version": "3.6.1"
  }
 },
 "nbformat": 4,
 "nbformat_minor": 4
}
